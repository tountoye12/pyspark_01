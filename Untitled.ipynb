{
 "cells": [
  {
   "cell_type": "markdown",
   "id": "c9b2d3bc-3875-472a-985d-5357dc7c5cc9",
   "metadata": {},
   "source": [
    "### Install and Test pysaprk"
   ]
  },
  {
   "cell_type": "code",
   "execution_count": null,
   "id": "cbdb5258-548b-49b2-a90b-7afb5f2270a7",
   "metadata": {},
   "outputs": [],
   "source": [
    "! pip3 install pyspark"
   ]
  },
  {
   "cell_type": "code",
   "execution_count": 1,
   "id": "cebf5c17-165c-465a-be58-1fc8c1939e78",
   "metadata": {},
   "outputs": [],
   "source": [
    "from pyspark.sql import SparkSession"
   ]
  },
  {
   "cell_type": "code",
   "execution_count": 2,
   "id": "050446e1-0688-4929-bb76-8122cd023187",
   "metadata": {},
   "outputs": [
    {
     "name": "stderr",
     "output_type": "stream",
     "text": [
      "24/05/12 11:46:09 WARN Utils: Your hostname, diallo resolves to a loopback address: 127.0.1.1; using 172.17.142.90 instead (on interface wlp2s0)\n",
      "24/05/12 11:46:09 WARN Utils: Set SPARK_LOCAL_IP if you need to bind to another address\n",
      "Setting default log level to \"WARN\".\n",
      "To adjust logging level use sc.setLogLevel(newLevel). For SparkR, use setLogLevel(newLevel).\n",
      "24/05/12 11:46:11 WARN NativeCodeLoader: Unable to load native-hadoop library for your platform... using builtin-java classes where applicable\n"
     ]
    }
   ],
   "source": [
    "spark_session = SparkSession.builder.appName(\"first_Saprk\").getOrCreate()"
   ]
  },
  {
   "cell_type": "code",
   "execution_count": 3,
   "id": "8f942eec-56df-4223-9b4d-6a926477c95c",
   "metadata": {},
   "outputs": [
    {
     "data": {
      "text/html": [
       "\n",
       "            <div>\n",
       "                <p><b>SparkSession - in-memory</b></p>\n",
       "                \n",
       "        <div>\n",
       "            <p><b>SparkContext</b></p>\n",
       "\n",
       "            <p><a href=\"http://172.17.142.90:4040\">Spark UI</a></p>\n",
       "\n",
       "            <dl>\n",
       "              <dt>Version</dt>\n",
       "                <dd><code>v3.5.1</code></dd>\n",
       "              <dt>Master</dt>\n",
       "                <dd><code>local[*]</code></dd>\n",
       "              <dt>AppName</dt>\n",
       "                <dd><code>first_Saprk</code></dd>\n",
       "            </dl>\n",
       "        </div>\n",
       "        \n",
       "            </div>\n",
       "        "
      ],
      "text/plain": [
       "<pyspark.sql.session.SparkSession at 0x7c1ff03bdd20>"
      ]
     },
     "execution_count": 3,
     "metadata": {},
     "output_type": "execute_result"
    }
   ],
   "source": [
    "spark_session"
   ]
  },
  {
   "cell_type": "code",
   "execution_count": 11,
   "id": "f1f270f0-1327-45a9-9d38-8abd2c31402b",
   "metadata": {},
   "outputs": [],
   "source": [
    "df_spark = spark_session.read.csv(\"student.csv\", header=True , inferSchema=True)"
   ]
  },
  {
   "cell_type": "code",
   "execution_count": 14,
   "id": "5b21f441-cdad-46ac-b2a9-4e9eee8ee902",
   "metadata": {},
   "outputs": [
    {
     "name": "stdout",
     "output_type": "stream",
     "text": [
      "+-------+---+-----+\n",
      "|student|age|grade|\n",
      "+-------+---+-----+\n",
      "|    Ali| 78|    8|\n",
      "|Mamadou|100|    9|\n",
      "|Mamadou|199|  484|\n",
      "+-------+---+-----+\n",
      "\n"
     ]
    }
   ],
   "source": [
    "display = df_spark.show()"
   ]
  },
  {
   "cell_type": "code",
   "execution_count": 26,
   "id": "ed77f87e-4ba6-4707-9dca-42cb637e1ea4",
   "metadata": {},
   "outputs": [
    {
     "name": "stdout",
     "output_type": "stream",
     "text": [
      "+-------+--------+----------+\n",
      "|student|sum(age)|sum(grade)|\n",
      "+-------+--------+----------+\n",
      "|Mamadou|     299|       493|\n",
      "|    Ali|      78|         8|\n",
      "+-------+--------+----------+\n",
      "\n"
     ]
    }
   ],
   "source": [
    "df_spark.groupby(\"student\").sum().show()"
   ]
  },
  {
   "cell_type": "code",
   "execution_count": 21,
   "id": "18b44a42-3263-4542-bd5c-b33259c6c8db",
   "metadata": {},
   "outputs": [
    {
     "name": "stdout",
     "output_type": "stream",
     "text": [
      "root\n",
      " |-- student: string (nullable = true)\n",
      " |-- age: integer (nullable = true)\n",
      " |-- grade: integer (nullable = true)\n",
      "\n"
     ]
    }
   ],
   "source": [
    "df_spark.printSchema()"
   ]
  },
  {
   "cell_type": "code",
   "execution_count": null,
   "id": "53e3957d-9b8c-4b98-b345-66e6210b24d9",
   "metadata": {},
   "outputs": [],
   "source": []
  }
 ],
 "metadata": {
  "kernelspec": {
   "display_name": "Python 3 (ipykernel)",
   "language": "python",
   "name": "python3"
  },
  "language_info": {
   "codemirror_mode": {
    "name": "ipython",
    "version": 3
   },
   "file_extension": ".py",
   "mimetype": "text/x-python",
   "name": "python",
   "nbconvert_exporter": "python",
   "pygments_lexer": "ipython3",
   "version": "3.10.12"
  }
 },
 "nbformat": 4,
 "nbformat_minor": 5
}
